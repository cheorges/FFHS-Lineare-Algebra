{
 "cells": [
  {
   "cell_type": "markdown",
   "metadata": {},
   "source": [
    "# Codierungstheorie"
   ]
  },
  {
   "cell_type": "markdown",
   "metadata": {},
   "source": [
    "## Auftrag\n",
    "\n",
    "Durch die Codierungstheorie eines Rohworts wird es möglich eventuelle Fehler, die während der Übertragung enstanden sind zu erkennen und zu korrigieren. Richard Hamming publizierte in den 1940er den perfekten Hamming-Code. In dieser Arbeit wird die Theorie und ein Anwendungsbeispiel an dem kleinen binären Hamming-Code mit der Länge sieben durchgeführt."
   ]
  },
  {
   "cell_type": "markdown",
   "metadata": {},
   "source": [
    "### Umgebung\n",
    "Damit die Snippets funktionieren, müssen die folgenden Python-Module installiert sein."
   ]
  },
  {
   "cell_type": "markdown",
   "metadata": {},
   "source": [
    "* NumPy [1]"
   ]
  },
  {
   "cell_type": "code",
   "execution_count": 1,
   "metadata": {},
   "outputs": [],
   "source": [
    "# pip install numpy"
   ]
  },
  {
   "cell_type": "markdown",
   "metadata": {},
   "source": [
    "## Theorie\n",
    "In diesem Kapitel wird der theoretische Teil aufgeführt, welcher für das Anwendungspeispiel relevant ist."
   ]
  },
  {
   "cell_type": "markdown",
   "metadata": {},
   "source": [
    "### Kanalcodierung\n",
    "Das Vorgehen, welches bei der Anwendung eines entsprechenden Codes angewandt wird, wird Kanalcodierung genannt. Ist $K=\\mathbb{Z}_q$ ein endlicher Körper, dann besteht eine zu übertragende Information aus Blöcken, die $k\\in \\mathbb{Z}$ entalten. Ein endlicher Körper folgt den folgenden Gesetzen: Kommutativgesetz, Assoziativgesetz und Distributivgesetz. Des Weiteren gibt es bei der Addition das neutrale Element Null und jedes Element $a$ hat ein inverses Element $-a$ wenn $b\\neq0$. Zudem ist bei der Multiplikation das neutrale Element Eins und ein inverses Element $b^{-1}$ vorhanden. Die Blöcke werden in einem Code $C$ kanalcodiert, welcher ein Unterraum des Vektorraums der $K^n$, wobei $n>k$, ist. Um nach dem Empfang der n-Tupl die Codewärter zurück nach $K^k$ zu konvertieren, müssen fehlerhafte Bits in den n-Tupel korrigiert werden. Wieviele Bits korrigiert werden können, hängt vom jeweiligen Hemming-Code Typ ab. Anschliessend kann die Kanalcodierung vollzogen werden, wodurch die ursprüngliche Information aus den $k$-Tupel erstellt wird [2]."
   ]
  },
  {
   "cell_type": "markdown",
   "metadata": {},
   "source": [
    "### (7,4)-Hamming-Code\n",
    "Ein Hamming-Code ist anhand seiner Parameter zu erkennen. Es handelt sich bei diesem Code um ein eindeutig bestimmter linearer Code, der häufig als (n,m)-Hamming Code geschrieben wird. Der Minimalabstand $d$ oder $d_{min}$ ist bei dem (7,4)-Hamming-Code immer drei und die lineare Schreibweise lautet $[n,n-k,3]_q$. Der Parameter $q$ bestimmt die Basis des endlichen Körpers $K=\\mathbb{Z}_q$. Bei binären Hamming-Codes ist die Basis immer zwei. Über den Parameter $k\\in\\mathbb{N}$ wird die Anzahl der verwendeten Paritätbits in einem Codewort $c$ beschrieben. Der Parameter $n$ definiert die totale Länge eines Codeworts $c$ und es gilt dabei $n=2^k-1$. Bei dem Hamming-Code werden die Blöcke, welche übermittelt werden in Daten- und Prüfbits unterteilt. Die Anzahl der Datenbits wird durch $n-k=m$ ermittelt. Somit ist der kleine binäre Hemming-Code mit der Länge sieben wie folgt definiert [2]:  \n",
    "\n",
    "$$n=7$$\n",
    "$$n=2^k-1\\to7+1=2^k\\to k=3$$\n",
    "$$m=n-k=7-3=4$$\n",
    "\n",
    "Dadurch wird dieser Hamming-Code auch (7,4)-Hamming-Code gennant."
   ]
  },
  {
   "cell_type": "markdown",
   "metadata": {},
   "source": [
    "#### Paritätbits\n",
    "Paritätbits werden anhand der Datenbits beziehungsweise durch die Datenbits berechnet. Die Paritätbits betrachten immer die Summe mehrerer Datenbits. Wenn die Summe gerade ist, wird das Paritätsbit den Wert eine Eins annehmen, wenn die Summe ungerade ist wird das Paritätsbit den Wert Null annehmen. Stimmt dies bei einem empfangenen $n$-Tuple so nicht, wird der Fehler erkannt. Da die verschiedenen Paritätbits entsprechend den verschiedenen Datenbits zugeteilt sind, kann auch erkannt werden, welches Daten- oder Paritätbit verfälscht wurde. Die Anzahl korrigierbaren Fehler $e$ wird über den Mindestabstand $d=2e+1$ berechnet. Der Mindesabstand $d$ ist beim (7,4)-Hamming-Code wie in Kapitel \"(7,4)-Hamming-Code\" erläutert drei. Somit ergibt sich folgende Gelichung: \n",
    "\n",
    "$$3=2e+1$$\n",
    "$$\\frac{3-1}{2} e=1$$\n",
    "\n",
    "Beim (7,4)-Hamming-Code kann somit ein Fehler erkannt und korrigiert werden [2]."
   ]
  },
  {
   "cell_type": "markdown",
   "metadata": {},
   "source": [
    "### Matrizen\n",
    "Bei jedem linearen Code gibt es eine Generatormatrix $G$ und eine Prüfmatrix $H$. Für beide Matrizen gibt es eine systematische und eine nicht-systematische Schreibweise. Wobei systematisch bedeutet, dass ein Block von aufeinander folgender Zeilen eine Einheitsmatrix $E_k$ darstellt und der darauf folgende Block durch die Zeilen der Paritätbits zusammengesetzt wird [2]. "
   ]
  },
  {
   "cell_type": "markdown",
   "metadata": {},
   "source": [
    "#### Generatormatrix $G$\n",
    "Sind die Paramteter wie folgt gegeben $[n, n-k,3]$, ergibt sich eine Matrix mit der Grösse $n\\times k$. Die $k$-Tupels der zu codierenden Informationen sollen jeweils zu einem $n$-Tuple umgewandelt werden. Dafür benötigt die Generatormatrix eines lineareen Codes die Basisvektoren, um die Stellen eiens Codewortes mittels Matrixmultiplikation zu berechnen.  \n",
    "Da bei einer Generatormatrix $G$ die $k$ Zeilen der Einheitsmatrix $E_k$ ensprechen, werden die restlichen $m$ Zeilen zur Bestimmung der Paritäbits verwerndet. Bei der nicht-systematischen Matrix befinden sich die Paritätbits in der Matrix an den Stellen $2^i$, wobei $i\\in\\{0,1,2,...,m-1\\}$ entsprechen muss. Für das Beispiel (7,4)-Hamming-Code ergeben sich die Stellen $\\{2^0, 2^1, 2^2\\}=\\{1,2,4\\}$. Durch die Paritätsbit-Stellen können nun einfach die Stellen $\\{3,5,6,7\\}$ der Einheitsmatrix $E_k$ evaluiert werden. Wodurch sich folgende initiale Matrix ergibt [2]:\n",
    "\n",
    "$$ G_{init} =\n",
    "\\begin{pmatrix}\n",
    "0 & 0 & 0 & 0 \\\\\n",
    "0 & 0 & 0 & 0 \\\\\n",
    "1 & 0 & 0 & 0 \\\\\n",
    "0 & 0 & 0 & 0 \\\\\n",
    "0 & 1 & 0 & 0 \\\\\n",
    "0 & 0 & 1 & 0 \\\\\n",
    "0 & 0 & 0 & 1\n",
    "\\end{pmatrix}\n",
    "$$\n",
    "\n",
    "Um nun die $m$ Zeilen der Paritätsbits zu bestimmen, wird jeweils das $i$-te Paritätsbit, das bei Index $j$ liegt, genommen. Alle darauffolgendnen Zeilen $\\{j + 1,...,n\\}$ werden durchiteriert und zur Zeile $j$ dazuaddiert, welche an der $i$-ten Stelle (bei der binären Schreibweise) eine Eins besitzen. Bei binären Zahlen wird jeweils von rechts nach links indexiert [2]. \n",
    "\n",
    "#### Beispiel\n",
    "Bei dem (7,4)-Hamming-Code besitzt das erste Paritätbit aus $\\{1,2,4\\}$ den Index Eins. Somit besitzen die darauffolgenden Zeilen als $j$-Wert folgende Werte:\n",
    "\n",
    "|Zahlensystem||||||||\n",
    "|:-:|:-:|:-:|:-:|:-:|:-:|:-:|:-:|\n",
    "|Dezimal|2|3|4|5|6|7|\n",
    "|Binär|010|011|100|101|110|111|\n",
    "\n",
    "Die $j$-ten Zeilenwerten, welche bei dem $i$-ten Index eine Eins besitzen, werden verwendet und zusammengezählt. Für den Index Eins wären dies die Zeilen drei, fünf und sieben.\n",
    "\n",
    "$$z_1=z_3+z_5+z_7=[1,0,0,0]+[0,1,0,0]+[0,0,0,1]=[1,1,0,1]$$\n",
    "\n",
    "Dieses Resultat stellt, das erste Paritätsbit dar. Dieser Ablauf wird für die zwei weiteren $i$-ten Werte zwei und vier wiederholt. Somit ergibt sich folgende Matrix:\n",
    "\n",
    "$$ G_{nicht systematische} =\n",
    "\\begin{pmatrix}\n",
    "1 & 1 & 0 & 1 \\\\\n",
    "1 & 0 & 1 & 1 \\\\\n",
    "1 & 0 & 0 & 0 \\\\\n",
    "0 & 1 & 1 & 1 \\\\\n",
    "0 & 1 & 0 & 0 \\\\\n",
    "0 & 0 & 1 & 0 \\\\\n",
    "0 & 0 & 0 & 1\n",
    "\\end{pmatrix}\n",
    "$$\n",
    "\n",
    "Da bei einem linearen Code die Zeilen linear unabhängig sind, können diese beliebig untereinander vertauscht werden. Damit kann die berechnete Generatormatrix in die systematische Form gebracht werden. Die drei Paritätsbit-Zeilen werden zusammen zu $G_p$ und die Einheitsmatrix wird zu $E_k$ zusammengefasst, wodurch sich die systematische Generatormatrix $G_{systematische}$ ergibt [2].\n",
    "\n",
    "$$ G_{systematische} = \\begin{pmatrix}\n",
    "E_k \\\\\n",
    "G_p\n",
    "\\end{pmatrix} =\n",
    "\\begin{pmatrix}\n",
    "1 & 0 & 0 & 0 \\\\\n",
    "0 & 1 & 0 & 0 \\\\\n",
    "0 & 0 & 1 & 0 \\\\\n",
    "0 & 0 & 0 & 1 \\\\\n",
    "1 & 1 & 0 & 1 \\\\\n",
    "1 & 0 & 1 & 1 \\\\\n",
    "0 & 1 & 1 & 1 \\\\\n",
    "\\end{pmatrix}\n",
    "$$\n",
    "\n",
    "Werden bei der Generatormatrix Zeilen vertauscht, müssen die gleichen vVerschiebungen von Spalten in der Prüfmatrix durchgeführt werden. Ansonsten kann keine korrekte Decodierung vollzogen werden. \n",
    "\n",
    "Die Generatormatrix kann nun verwendet werden um den Rohwert $w$ zu codieren. Die Codierung geschieht durch k-Tuple Matrixmultiplikationen $G*w=c$ [2]."
   ]
  },
  {
   "cell_type": "markdown",
   "metadata": {},
   "source": [
    "#### Prüfmatrix $H$\n",
    "Um die $n$-Tuple kontrollieren zu können, wird ein Prüfmatrix $H$ mit der Grösse $k\\times n$ benötigt. Bei der Decodierung eines Hamming-Codes wird ein möglicher Fehler erkannt und korrigiert. Zum Schluss werden die Paritätsbits vom Codwort losgelöst und somit erhält man das ursprüngliche Rohwort.  \n",
    "Eine nicht systematische Prüfmatrix wird erstellt, indem ihre Spalten den binären Wert des Spaltenindex enthält.  \n",
    "Die systematische Form von $H$ kann aus der Generatormatrix generiert werden, indem die $G_p$ und $E_k$ Matrizen zusammengesetzt werden [2].\n",
    "\n",
    "$$ H_{systematische} = \\begin{pmatrix}\n",
    "G_p & E_k\n",
    "\\end{pmatrix} =\n",
    "\\begin{pmatrix}\n",
    "1 & 1 & 0 & 1 & 1 & 0 & 0 \\\\\n",
    "1 & 0 & 1 & 1 & 0 & 1 & 0 \\\\\n",
    "0 & 1 & 1 & 1 & 0 & 0 & 1 \n",
    "\\end{pmatrix}\n",
    "$$\n",
    "\n",
    "Ein Codeword wird zur Fehlererkennung mit der transponierten Prüfmatrix multipliziert. Ist das Resultat aus $c*H^T=0$, so liegt kein Fehler vor und die Partitätbis können entfert werden. Ist jedoch das Resultat aus der Matrizenmultiplikation nicht gleich null, dan gibt das Ergebnis den Index an, welches Bit von $c$ falsch ist. Dieses Bit wird, darauf invertiert und der Fehler wird dadurch beseitigt [2]."
   ]
  },
  {
   "cell_type": "markdown",
   "metadata": {},
   "source": [
    "## Implementierung\n",
    "Für die Umsetzung kann die obenaufgeführte Theorie in Code umgewandelt werden. Hierfür muss nur beachtet werden, dass bei der Theorie der Index der jeweiligen Elemente bei Eins starten und bei der Programmiersprache Python wird der erste Index über den Wert null angesprochen.  \n",
    "Für die Logik des Hamming-Codes wurde eine Klasse `HammingCode` erstellt, welche über einen Konstruktor den Parameter `k` übergeben werden kann. Als Standardwert ist der Wert drei gesetzt, welcher somit ein (7,4)-Hamming-Code erzeugt. Die Klasse verfügt über zwei öffentliche Methoden `encode` und `decode`. Mit der ersten Methode kann eine Zeichenkette encodiert werden. Mit der zweiten Methode kann das Resultat der `encode`-Methode wieder decodiert werden. Dabei prüft die `decode`-Methode die Daten auf allfälige Fehler und korrigiert diese."
   ]
  },
  {
   "cell_type": "markdown",
   "metadata": {},
   "source": [
    "### Beschreibung\n"
   ]
  },
  {
   "cell_type": "code",
   "execution_count": 2,
   "metadata": {},
   "outputs": [],
   "source": [
    "import numpy as np\n",
    "\n",
    "\n",
    "class HammingCode:\n",
    "    \"\"\"\n",
    "    Enthält die Logik um ein Rohwert zu codieren und zu decodieren.\n",
    "    \"\"\"\n",
    "\n",
    "    def __init__(self, k=3):\n",
    "        \"\"\"\n",
    "        Konstruktor für die Erstellung eines HammingCode-Objekts.\n",
    "        @param: self: Objektreferenz.\n",
    "        @param: k: Parameter für die Berechnung des Hamming-Codes.\n",
    "        \"\"\"\n",
    "\n",
    "        if isinstance(k, int) and k < 1:\n",
    "            raise ValueError(\"Das Argument 'k' muss eine Ganzzahl und grösser als 1 sein.\")\n",
    "\n",
    "        self.k = k\n",
    "        self.n = np.power(2, self.k) - 1\n",
    "        self.m = self.n - self.k\n",
    "\n",
    "        # Positionen der Paritätsbits von einer nicht systematischen Matrix ermitteln.\n",
    "        self.paritaetsbit_pos = np.zeros(self.k, dtype=int)\n",
    "        for index in range(self.k):\n",
    "            self.paritaetsbit_pos[index] = np.power(2, index) - 1\n",
    "\n",
    "        self.G = self.__erstelle_generatormatrix()\n",
    "        self.H = self.__erstelle_puefmatrix()\n",
    "\n",
    "    def __erstelle_generatormatrix(self):\n",
    "        \"\"\"\n",
    "        Generiert für den definierten Hamming-Code die Generatormatrix.\n",
    "        @param: self: Objektreferenz.\n",
    "        @return: Systematische Generatormatrix.\n",
    "        \"\"\"\n",
    "\n",
    "        G = np.zeros((self.n, self.m), dtype=int)  # Generatormatrix n x m.\n",
    "\n",
    "        # Einheitsmatrix m x m.\n",
    "        E = np.identity(self.m, dtype=int)\n",
    "        E_list = E.tolist()\n",
    "        E_list.reverse()\n",
    "\n",
    "        # Einheitsmatrix in Generatormatrix eintragen.\n",
    "        for i in range(self.n):\n",
    "            if i not in self.paritaetsbit_pos:\n",
    "                G[i] = np.asanyarray(E_list.pop())\n",
    "\n",
    "        # Zeilen der Paritätsbits berechnen.\n",
    "        paritaetbit_index = 1\n",
    "        for paritaetsbit in self.paritaetsbit_pos:\n",
    "            zeile = np.zeros(self.m, dtype=int)\n",
    "            for j in range(paritaetsbit + 1, self.n):\n",
    "                if np.binary_repr(j + 1)[-paritaetbit_index] == \"1\" and j not in self.paritaetsbit_pos:\n",
    "                    zeile = zeile + G[j]\n",
    "            G[paritaetsbit] = zeile\n",
    "            paritaetbit_index += 1\n",
    "\n",
    "        # Generatormatrix zu einer systematischen umformen.\n",
    "        P = np.zeros((self.k, self.m), dtype=int)\n",
    "        for index, i in enumerate(self.paritaetsbit_pos):\n",
    "            P[index] = G[i]\n",
    "\n",
    "        return np.concatenate((E, P))\n",
    "\n",
    "    def __erstelle_puefmatrix(self):\n",
    "        \"\"\"\n",
    "        Generiert für den definierten Hamming-Code die Prüfmatrix.\n",
    "        @param: self: Objektreferenz.\n",
    "        @return: Systematische Prüfmatrix.\n",
    "        \"\"\"\n",
    "\n",
    "        if self.G is None:\n",
    "            self.__erstelle_generatormatrix()\n",
    "\n",
    "        # Systematische Prüfmatrix erstellen.\n",
    "        E = np.identity(self.k, dtype=int)\n",
    "        G_p = self.G[-self.k:]\n",
    "\n",
    "        return np.hstack((G_p, E))\n",
    "\n",
    "    def encode(self, rohwort):\n",
    "        \"\"\"\n",
    "        Codiert eine Zeichenkette anhand der Generatormatrix.\n",
    "        @param: self: Objektreferenz.\n",
    "        @param: rohwort: Zeichenkette, welche codiert wird.\n",
    "        @return: Die codierte Zeichenkette.\n",
    "        \"\"\"\n",
    "\n",
    "        if not isinstance(rohwort, str):\n",
    "            raise ValueError(\"Es können nur Zeichenketten codiert werden.\")\n",
    "\n",
    "        code = str()\n",
    "        for character in rohwort:\n",
    "            code += format(ord(character), 'b').zfill(8)\n",
    "\n",
    "        blocks = []\n",
    "        for length in range(len(code), 0, -self.m):\n",
    "            binaer_wort = code[np.maximum(length - self.m, 0):length].zfill(self.m)\n",
    "            block = np.zeros(self.m, dtype=int)\n",
    "            for index, number in enumerate(binaer_wort):\n",
    "                block[index] = int(number)\n",
    "            blocks.insert(0, block.tolist())\n",
    "\n",
    "        return [np.remainder(np.dot(self.G, block), 2).tolist() for block in blocks]\n",
    "\n",
    "    def decode(self, codeword):\n",
    "        \"\"\"\n",
    "        Decodiert ein binäres Wort und wandelt dieses in eine Zeichenkette um.\n",
    "        @param: self: Objektreferenz.\n",
    "        @param: codeword: Ein codiertes binäres Wort.\n",
    "        @return: Zeichenkette.\n",
    "        \"\"\"\n",
    "\n",
    "        # Prüfung, ob es sich um ein binäres Wort handelt.\n",
    "        if not self.__check_binaer(codeword):\n",
    "            raise ValueError('Nur binäre Wörter können decodiert werden.')\n",
    "\n",
    "        # Decodierung der binären Zeichenkette.\n",
    "        datenbits = list()\n",
    "        for block in codeword:\n",
    "            index, fehler = self.__check(block)\n",
    "            if index is not None:\n",
    "                # Fehlerbehebung.\n",
    "                block_fehler = block[index]\n",
    "                block[index] = 0 if block[index] == 1 else 1\n",
    "                print(f'Fehler {block_fehler} korrigiert zu {block[index]}')\n",
    "            datenbits.append([block[index] for index in range(self.m)])\n",
    "\n",
    "        # Binäre Zeichen in Zeichenfolge umformen.\n",
    "        rohwort = list()\n",
    "        datenbits = [str(bits) for sublist in datenbits for bits in sublist]\n",
    "        for daten in range(len(datenbits), 0, -8):\n",
    "            daten_str = [str(item) for sublist in datenbits[daten - 8:daten] for item in sublist]\n",
    "            rohwort.insert(0, chr(int(''.join(daten_str), 2)))\n",
    "\n",
    "        return ''.join(rohwort)\n",
    "\n",
    "    def __check_binaer(self, wort):\n",
    "        \"\"\"\n",
    "        Prüfung, ob es sich um ein Binärwort handelt.\n",
    "        @param: wort: Das zu prüfende word.\n",
    "        @return: Gibt das Resultat der der Prüfung zurück.\n",
    "        \"\"\"\n",
    "\n",
    "        flat_list = [item for sublist in wort for item in sublist]\n",
    "        errors = [number for number in flat_list if number != 1 and number != 0]\n",
    "        return len(errors) == 0\n",
    "\n",
    "    def __check(self, wort):\n",
    "        \"\"\"\n",
    "        Prüft ein Wort auf Fehler.\n",
    "        @param: wort: Wort, welches auf Fehler geprüft wird.\n",
    "        @return: Index des Fehlers und den Block des Fehlers.\n",
    "        \"\"\"\n",
    "\n",
    "        resultat = np.remainder(np.dot(wort, self.H.T), 2)\n",
    "        if np.count_nonzero(resultat) != 0:\n",
    "            for index, line in enumerate(self.H.T):\n",
    "                print(f'Spalte von H mit Index {index + 1}: {line}, wort*H: {resultat}')\n",
    "                if list(line) == list(resultat):\n",
    "                    print(f'Fehler erkannt bei Index {index + 1}!')\n",
    "                    return index, wort[index]\n",
    "        return None, None"
   ]
  },
  {
   "cell_type": "markdown",
   "metadata": {},
   "source": [
    "### Anwendung\n",
    "Um die Anwendung aufzuzeigen wird zuerst ein (7,4)-Hamming-Code erzeugt. Danach wird jeweils ein String codiert, welcher danach an einer Stelle manipuliert wird. Die fehlerhafte binär Zeichenfolge wird danach decodiert. Der Fehler wird korrekt erkannt und korrigiert."
   ]
  },
  {
   "cell_type": "code",
   "execution_count": 3,
   "metadata": {},
   "outputs": [
    {
     "name": "stdout",
     "output_type": "stream",
     "text": [
      "Der Wert 'Hallo' ist encodiert: \n",
      "[[0, 1, 0, 0, 1, 0, 1], [1, 0, 0, 0, 1, 1, 0], [0, 1, 1, 0, 1, 1, 0], [0, 0, 0, 1, 1, 1, 1], [0, 1, 1, 0, 1, 1, 0], [1, 1, 0, 0, 0, 1, 1], [0, 1, 1, 0, 1, 1, 0], [1, 1, 0, 0, 0, 1, 1], [0, 1, 1, 0, 1, 1, 0], [1, 1, 1, 1, 1, 1, 1]].\n",
      "Bei Index 3 wird ein Fehler eingebaut...\n",
      "Spalte von H mit Index 1: [1 1 0], wort*H: [0 1 1]\n",
      "Spalte von H mit Index 2: [1 0 1], wort*H: [0 1 1]\n",
      "Spalte von H mit Index 3: [0 1 1], wort*H: [0 1 1]\n",
      "Fehler erkannt bei Index 3!\n",
      "Fehler 1 korrigiert zu 0\n",
      "Der Wert: \n",
      "[[0, 1, 0, 0, 1, 0, 1], [1, 0, 0, 0, 1, 1, 0], [0, 1, 1, 0, 1, 1, 0], [0, 0, 0, 1, 1, 1, 1], [0, 1, 1, 0, 1, 1, 0], [1, 1, 0, 0, 0, 1, 1], [0, 1, 1, 0, 1, 1, 0], [1, 1, 0, 0, 0, 1, 1], [0, 1, 1, 0, 1, 1, 0], [1, 1, 1, 1, 1, 1, 1]] \n",
      "ist decodiert 'Hallo'.\n"
     ]
    }
   ],
   "source": [
    "hamming_code = HammingCode()\n",
    "hallo = 'Hallo'\n",
    "encode_A = hamming_code.encode(hallo)\n",
    "print(f\"Der Wert '{hallo}' ist encodiert: \\n{encode_A}.\")\n",
    "print(\"Bei Index 3 wird ein Fehler eingebaut...\")\n",
    "encode_A[0][2] = 1\n",
    "encode_A_manipuliert = encode_A\n",
    "decode_A = hamming_code.decode(encode_A)\n",
    "print(f\"Der Wert: \\n{encode_A} \\nist decodiert '{decode_A}'.\")"
   ]
  },
  {
   "cell_type": "markdown",
   "metadata": {},
   "source": [
    "## Diskussion\n",
    "Wird nun der (7,4)-Hamming-Code betrachtet ist die eigentliche Effizienz der Übertragung nicht besonders gut. Denn es  können von sieben Bit nur vier Bit verwendet werden um Daten zu übertragen. Zudem werden drei Bits benötigt um einen allfäligen Fehler bei der Übertragung zu erkennen. Um eine bessere Effizienz bei der Übertragung zu erzielen könnte nun ein (15,11)-Hamming-Code oder (31,26)-Hamming-Code verwendet werden.  \n",
    "\n",
    "|$k$|$2^k-1$|$2^k-1-k$|Prozent|Bezeichnung|\n",
    "|:-:|:-:|:-:|:-:|:-:|\n",
    "|3|$2^3-1=7$|$2^3-1-3=4$|~57%|(7,4)-Hamming-Code|\n",
    "|4|$2^4-1=15$|$2^4-1-4=11$|~73%|(15,11)-Hamming-Code|\n",
    "|5|$2^5-1=31$|$2^5-1-5=26$|~84%|(31,26)-Hamming-Code|\n",
    "\n",
    "Eine bessere Effizienz bei der Übertragung ist nicht immer besser, denn der Hamming-Code kann nur einen Fehler korrigiere. Je mehr Daten übertragen werden, desto grösser ist die Chance, dass mehr als ein Fehler auftritt. Somit könnten diese Fehler nicht mehr korrigiert werden. Hier muss je nach Anwendungfall der richte Code verwendet werden [2]."
   ]
  },
  {
   "cell_type": "markdown",
   "metadata": {},
   "source": [
    "## Fazit\n",
    "Die Aufgabe hat mir sehr geholfen ein besseres Verständis über die Struktur und Charakteristik der Generatormatrix und Prüfmatrix zu erlangen. Zudem ist mir wieder aufgefallen wie mächtig die Matrixmultiplikation ist und wie dadurch viele mathematische Operationen sehr effizient durchgefürt werden können. Was für mich neu war, war die Umformung von Zeichenketten in binäre Zeichenketten und umgekehrt."
   ]
  },
  {
   "cell_type": "markdown",
   "metadata": {},
   "source": [
    "## Literaturverzeichnis  \n",
    "[1] NumPy Developers. (2020). NumPy. Abgerufen am 27.10.2020 von https://numpy.org/    \n",
    "[2] G. Teschl, S. Teschl. (2014) Mathematik für Informatiker. Springer-Verlag Berlin Heidelberg.  "
   ]
  }
 ],
 "metadata": {
  "kernelspec": {
   "display_name": "Python 3",
   "language": "python",
   "name": "python3"
  },
  "language_info": {
   "codemirror_mode": {
    "name": "ipython",
    "version": 3
   },
   "file_extension": ".py",
   "mimetype": "text/x-python",
   "name": "python",
   "nbconvert_exporter": "python",
   "pygments_lexer": "ipython3",
   "version": "3.9.0"
  }
 },
 "nbformat": 4,
 "nbformat_minor": 4
}
