{
 "cells": [
  {
   "cell_type": "markdown",
   "metadata": {},
   "source": [
    "# Lineare Transoframtionen"
   ]
  },
  {
   "cell_type": "markdown",
   "metadata": {},
   "source": [
    "## Auftrag\n",
    "\n",
    "In dieser Aufgabe geht es darum, eine Funktion zu schreiben, die in der Ebene $\\mathbb{R}^2$ die Gitterlinien des Koordinatensystems (Parallelen $x$- und $y$-Achse) und des Einheitskreises nach einer Abbildungsmatrix $A$ linear abbildet und mit der Bibliothek *matplotlib* zeichnet. Mit der Funktion sollen einige Anwendungsbeispiele gezeigt und erklärt werden. Die Funktion besitzt zusätzlich zwei optionale Parameter, mit welchen die Wertebreiche für x- und y-Werte übersteuert werden können."
   ]
  },
  {
   "cell_type": "markdown",
   "metadata": {},
   "source": [
    "### Umgebung\n",
    "Damit die Snippets funktionieren, müssen die folgenden Python-Module installiert sein."
   ]
  },
  {
   "cell_type": "markdown",
   "metadata": {},
   "source": [
    "* Matplotlib [1]\n",
    "* NumPy [2]"
   ]
  },
  {
   "cell_type": "code",
   "execution_count": 1,
   "metadata": {},
   "outputs": [],
   "source": [
    "# pip install matplotlib"
   ]
  },
  {
   "cell_type": "code",
   "execution_count": 2,
   "metadata": {},
   "outputs": [],
   "source": [
    "# pip install numpy"
   ]
  },
  {
   "cell_type": "markdown",
   "metadata": {},
   "source": [
    "## Theorie\n",
    "Eine lineare Abbildung wird in der Mathematik eine Abbildung von ${\\mathbb{R}^n}$ nach ${\\mathbb{R}^m}$ bezeichnet, welche durch eine Matrix beschrieben wird. In einfachen Worten: \"Die Koordinaten eines Punktes zu wechseln\" oder \"Die Abbildung bewegt Punkte\".  \n",
    "Eine lineare Abbildung wird nur als solche bezeichnet wenn folgende Eigenschaften gegeben sind [3]:"
   ]
  },
  {
   "cell_type": "markdown",
   "metadata": {},
   "source": [
    "* Eine Gerade wird wieder auf eine Gerade abgebildet, wobei die Streckenverhälntisse auf der Geraden erhalten bleiben, oder auf einen einzelnen Punkt.\n",
    "* Wenn zwei parallele Geraden auf zwei Geraden abgebildet werden, dann sind die Geraden parallel.\n",
    "* Der Nullpunkt wird auf den Nullpunkt abgebildet."
   ]
  },
  {
   "cell_type": "markdown",
   "metadata": {},
   "source": [
    "\n",
    "Die lineare Abbildung $f$ kann hier also folgendermassen definiert werden:  \n",
    "\n",
    "$$f: \\begin{cases}\n",
    "  \\mathbb{R}^n \\rightarrow \\mathbb{R}^m \\\\\n",
    "  x \\mapsto A*x\n",
    " \\end{cases}$$  \n",
    "\n",
    "Die Matrizenmultiplikation $M*x$ gescheiht bei $M$ zeilenweise und bei $x$ spaltenweise. Der Eintrag der $i$-ten Zeile und der $k$-ten Spalte der Matrix $M*x$ kann so berechnet werden, wenn oben genannte Bedingungen zutreffen:  \n",
    "\n",
    "$$\\sum\\limits_{j=1}^n  A_{i,j}*x_{j,k}$$  \n",
    "\n",
    "Bei der linearen Abbildung werden die kanonischen Einheitsvektoren $e_1 = (1,  0)^T$ und $e_2 = (0, 1)^T$ durch die Matrizenmultiplikation so abgebildet, dass sie dann die Form $e_1 = (A_{1,1}, A_{2,1})^T$ und $e_2 = (A_{1,2}, A_{2,2})^T$ haben. Dadurch ergibt sich auch die Einheitsmatrix, die wie folgt aussieht:  \n",
    "\n",
    "$$M = \\begin{pmatrix}\n",
    "1 & 0 \\\\\n",
    "0 & 1\n",
    "\\end{pmatrix}$$\n",
    "\n",
    "Dementsprechend wird das Koordinatensystem neu abgebildet und so auch alle im Koordinatensystem vorhandenen Punkte. Je nach Form der Abbildungsmatrix können Skalierungen, Scherungen, Drehungen, Spieglungen oder Projektionen geschehen. Alle gennanten Abbildungsmatrizen werden mit den folgenden Anwendungsbeispielen aufgezeigt.  \n",
    "Nachfolgend werden kurz die genannten Abbildungsmatrizen beschrieben. An dieser Stelle wird kein Beweis für die jeweiligen Abbildungsmatrixen genannt [3].\n",
    "\n",
    "**Skalierung**  \n",
    "Bei der Skalierung werden bei der Einheitsmatrix die \"Einsen\" verändert. So kann die x-Achse oder y-Achse gestaucht oder getreckt werden.  \n",
    "\n",
    "**Scherung**  \n",
    "Bei der Scherung werden bei der Einheitsmatrix die \"Nullen\" verändert. Die Punkte werden somit parallel zur jeweiligen Achse verschoben.\n",
    "\n",
    "**Drehung**  \n",
    "Bei einer Drehung ändert sich die Fläche nicht, nur die Lage wird geändert. Eine Drehung erfolgt jeweils um den Nullpunkt anhand eines Winkels $\\alpha$. Somit bleibt der Nullpunkt auf seinem Ursprungspunkt. Eine Drehung wird mittels folgender Abbildungsmatrix beschrieben:  \n",
    "\n",
    "$$M = \\begin{pmatrix}\n",
    "cos(\\alpha) & -sin(\\alpha) \\\\\n",
    "sin(\\alpha) & cos(\\alpha)\n",
    "\\end{pmatrix}$$\n",
    "\n",
    "**Spiegelung**  \n",
    "Bei einer Spiegelung wird die Gerade gespiegelt, die druch den Nullpunkt geht und einen Winkel von $\\alpha$ zur waagerechten Achse hat. Dies wird durch folgende Abbildungsmatrix beschrieben:\n",
    "\n",
    "$$M = \\begin{pmatrix}\n",
    "cos(2\\alpha) & sin(2\\alpha) \\\\\n",
    "sin(2\\alpha) & -cos(2\\alpha)\n",
    "\\end{pmatrix}$$  \n",
    "\n",
    "**Projektion**  \n",
    "Bei einer Projektion werden alle Punkte auf eine Achse projiziert."
   ]
  },
  {
   "cell_type": "markdown",
   "metadata": {},
   "source": [
    "## Anwendungsbeispiel\n",
    "Die folgende Funktion `lineareAbbildung` führt eine Abbildungsmatrix $A$ auf einen Einheitskreis aus."
   ]
  },
  {
   "cell_type": "markdown",
   "metadata": {},
   "source": [
    "### Code"
   ]
  },
  {
   "cell_type": "code",
   "execution_count": 3,
   "metadata": {},
   "outputs": [],
   "source": [
    "# Importe für Numpy und Matplotlib\n",
    "\n",
    "import numpy as np\n",
    "import matplotlib.pyplot as plt"
   ]
  },
  {
   "cell_type": "code",
   "execution_count": 4,
   "metadata": {},
   "outputs": [],
   "source": [
    "def generiereEinheitskreisKoord():\n",
    "    \"\"\"\n",
    "    Generiert die Koordinaten eines Einheitskreises, welcher druch ein Vieleck simuliert wird.\n",
    "    Radius des Einheitskreises beträgt 0.5 und sein Zentrum liegt auf dem Punkt (0.5,0.5).\n",
    "    \"\"\"\n",
    "    x_koord = [(np.cos(np.deg2rad(grad))+1)/2 for grad in range(361)]\n",
    "    y_koord = [(np.sin(np.deg2rad(grad))+1)/2 for grad in range(361)]\n",
    "    return np.asanyarray([x_koord, y_koord])"
   ]
  },
  {
   "cell_type": "code",
   "execution_count": 5,
   "metadata": {},
   "outputs": [],
   "source": [
    "def lineareAbbildung(A, x=2, y=2):\n",
    "    \"\"\" \n",
    "    Ermittelt eine lineare Abbildung mit der Matrix A für einen Einheitskreis.\n",
    "    @param: Matrix A: Abildungsmatrix für die lineare Abbildung\n",
    "    @param: int x: Min- und Maximaler Wertebereich der x-Achse, Standartwert ist min. -3 und max. 3\n",
    "    @param: int y: Min- und Maximaler Wertebereich der y-Achse, Standartwert ist min. -3 und max. 3\n",
    "    \"\"\"\n",
    "    \n",
    "    xmax, xmin = x, -x\n",
    "    ymax, ymin = y, -y\n",
    "\n",
    "    zeilen = np.shape(A)[0]\n",
    "    spalten = np.shape(A)[1]\n",
    " \n",
    "    # Überprüfung der Form der Abbildungsmatrix\n",
    "    if spalten > 2:\n",
    "        # Erstellt ein Indexgrid für die 2x2-Matrix\n",
    "        indexgrid = np.ix_([True, True], [0, 1])\n",
    "        A = A[indexgrid]\n",
    "        spalten = np.shape(A)[1]\n",
    "        \n",
    "    # Überprüfung der Form der Abbildungsmatrix\n",
    "    if spalten == 2 and zeilen >= 2:\n",
    "        # Plot vorbereiten\n",
    "        fig, ax = plt.subplots()\n",
    "        ax.set_aspect(\"equal\")\n",
    "        plt.xlabel('x')\n",
    "        plt.ylabel('y')\n",
    "        plt.xlim(xmin,xmax)\n",
    "        plt.ylim(ymin,ymax)\n",
    "        plt.xticks(np.arange(xmin, xmax + 1, 1.0))\n",
    "        plt.yticks(np.arange(ymin, ymax + 1, 1.0))\n",
    "        \n",
    "        # Parallelen zur x- und y-Achse darstellen\n",
    "        plt.grid(alpha = 0.5, color='grey')\n",
    "        \n",
    "        # Einheitskreis darstellen\n",
    "        einheitskreis_koord = generiereEinheitskreisKoord()\n",
    "        plt.plot(*einheitskreis_koord, color='blue')\n",
    "        \n",
    "        # lineare Abbildung des Einheitskreises berechnen und darstellen\n",
    "        abbildung_einheitskreis_koord = np.array(np.mat(A) * np.mat(einheitskreis_koord))\n",
    "        plt.plot(*abbildung_einheitskreis_koord, color='red', zorder=99)\n",
    "        \n",
    "        # Darstellung der abgebildeten x- und y-Achsen\n",
    "        for i in range(-5 * np.abs(ymin), 5 * ymax + 1):\n",
    "            alt = np.asanyarray([[-5 * np.abs(xmin), 5 * xmax], [i,i]])\n",
    "            neu = np.array(np.mat(A) * np.mat(alt))\n",
    "            plt.plot(*neu, color='green', alpha=0.3)\n",
    "        \n",
    "        for i in range(-5*np.abs(xmin), 5*xmax+1):\n",
    "            alt = np.asanyarray([[i,i], [-5 * np.abs(ymin), 5 * ymax]])\n",
    "            neu = np.array(np.mat(A)*np.mat(alt))\n",
    "            plt.plot(*neu, color='green',alpha=0.3)\n",
    "        \n",
    "        plt.show()\n",
    "    else:\n",
    "        raise ValueError(\"Die Abbildungsmatrix muss mindestens eine 2x2 Matrix sein.\")"
   ]
  },
  {
   "cell_type": "markdown",
   "metadata": {},
   "source": [
    "### Erklärung der Funktion\n",
    "Die Funktion `lineareAbbildung` erhält als Parameter eine Abbildungsmatrix $M$. Die optionalen Parameter für den Wertebereich des Plots haben Default-Werte, so können diese beim Benutzen der Funktion angepasst oder weggelassen werden.  \n",
    "Die Anzahl Spalten der Abbildungsmatrix $A$ muss zwingend 2 sein, denn wir befinden uns im zweidimensionalen Raum. Wenn irgendein Punkt $P$ in ${\\mathbb{R}^2}$ linear abgebildet werden soll, so muss eine Matrizenmultiplikation ${A*P}$ stattfinden. Der Punkt $P$ muss die Grösse ${2\\times1}$ besitzen. Deshalb muss die $A$ die Grösse ${n\\times2}$ aufweisen, wobei die Bedingung ${n>=2}$ und ${n \\in \\mathbb{N}}$ erfüllt sein muss. Bei den Fällen ${n>2}$ werden die Zeilen 3 bis n in der grafischen Darstellung keinen sichtbaren Einfluss haben, da bei den errechneten Matrizen nur die Indexe 0 und 1 für die Abbildung verwendet werden.  \n",
    "Da eine Abbildung eines Kreises nicht ganz einfach zu bestimmen ist, wird mit einem Vieleck gearbeitet. Dabei werden die Kooridnaten der Ecken mit $cos(\\varphi)$ und $sin(\\varphi)$ berechnet, wobei $\\varphi$ einen Winkel zwischen $0$ und $2\\pi$ bzw. $0-360$ Grad annimmt. Die berechneten Koordinaten werden danach umgewandelt, sodass ein Einheitskreis mit einem Radius $0.5$ ensteht und sein Zentrum sich beim Punkt $P_K=(0.5, 0.5)$ befindet. Dies geschieht in der Hilfsfmethoe `generiereEinheitskreisKoord`.  \n",
    "Der Plot wird in fünf Schritten erzeugt. Zu Beginn wird standardmässig mit `plt.subplots()` ein Bereich für verschiedene Subplots erstellt. Der Plot wird mit *fig* und die Achsen mit *ax* referenziert. Mit `ax.set_aspect(\"equal\")` wird festgelegt, dass alle Achsen dieselbe Skalierung haben. Dadurch wird sichergestellt, dass beide Einheitsvektoren gleich lang sind. Danach werden die Achsen beschriftet und der Anzeigebereich des Plots nach den Wertebereich-Parametern *x* und *y* gesetzt. Mit `plt.xticks(...)` und `plt.yticks(...)` wird die Beschriftung der Achse definiert. Mittels `ptl.grid(...)` werden die Koordinatenlinien im Plot dargestellt. Für die Dahrstellung des Einheitskreises werden zuerst die benötigten Koordinaten über die Funktion `generiereEinheitskreisKoord` geladen. Die Koordinaten werden als eine $2\\times n$ Matrix definiert. In dieser Matrix zeigt jeweils die Spalte ein Punkt an. Alle Punkte in dieser Matrix werden mit `plt.plot(...)` gezeichnet und jeweils ein Punkt mit dem darauffolgenden verbunden.  \n",
    "Für die Berechnung der linearen Abbildung wird die Matrix des Einheitskreises mit der Abbildungsmatrix $A$ multipliziert. Die Matrizenmultiplikation wird mittels `np.mat(...)` durchgeführt. Das Ergebnis der Matrizenmultiplikation wird wiederum in den gleichen Plot gezeichnet.  \n",
    "Zum Schluss müssen noch die Achsenparallelen abgeblidet werden. Hierfür wird mit einer for-Schlaufe über einen Bereich der ganzzahligen Werte einer Achse iteriert. Als Bereich dieser Iteration wurde bewusst ${-5*|xmin|}$ bis ${5*xmax}$ gewählt, denn je nach Abbildung reicht der Bereich *xmin* bis *xmax* nicht aus. Die Variable *alt* definiert bei den X-Achsenparallelen eine Matrix der Form \n",
    "${\\begin{pmatrix}\n",
    "    -5*|xmin|    & 5*xmax \\\\\n",
    "    i       & i\n",
    "\\end{pmatrix}}$ \n",
    "Diese enthält somit Anfangs- und Endpunkt der Parallele auf der Höhe ${y=i}$. Dies sind die Punkte, die zum Zeichnen einer Linie benötigt werden.   \n",
    "Nun wird \n",
    "${neu=A*\\begin{pmatrix}\n",
    "    -5*|xmin|    & 5*xmax \\\\\n",
    "    i       & i\n",
    "\\end{pmatrix}}$\n",
    "ausgerechnet und mit diesen Punkten wird die abgebildete Gerade in grün dargestellt.  \n",
    "Genau dasselbe wird dann für die Y-Achsenparallelen getan, indem über die möglichen x-Werte iteriert wird und entsprechende Anfangs- und Endpunkte der zu zeichnenden Achsenparallele errechnet werden."
   ]
  },
  {
   "cell_type": "markdown",
   "metadata": {},
   "source": [
    "### Beispiele\n"
   ]
  },
  {
   "cell_type": "markdown",
   "metadata": {},
   "source": [
    "**1. Abbildung:** Skalierung an der y-Achse und Stauchung an der x-Achse."
   ]
  },
  {
   "cell_type": "code",
   "execution_count": 6,
   "metadata": {},
   "outputs": [
    {
     "data": {
      "image/png": "[encoded data removed]",
      "text/plain": [
       "<Figure size 432x288 with 1 Axes>"
      ]
     },
     "metadata": {
      "needs_background": "light"
     },
     "output_type": "display_data"
    }
   ],
   "source": [
    "lineareAbbildung(np.array([[0.5, 0], [0, 1.5]]))"
   ]
  },
  {
   "cell_type": "markdown",
   "metadata": {},
   "source": [
    "**2. Abbildung:** Scherung an der x-Achse. Hier bleiben die y-Koordinaten der Punkte gleich, während die x-Koordinaten sich ändern. Die Punkte werden parallel zur x-Achse verschoben. Oberhalb der Achse wird nach rechts, unterhalb nach links verschoben. Jene Punkte, welche sich auf der Achse befinden, werden nicht verschoben [3].  "
   ]
  },
  {
   "cell_type": "code",
   "execution_count": 7,
   "metadata": {},
   "outputs": [
    {
     "data": {
      "image/png": "[encoded data removed]",
      "text/plain": [
       "<Figure size 432x288 with 1 Axes>"
      ]
     },
     "metadata": {
      "needs_background": "light"
     },
     "output_type": "display_data"
    }
   ],
   "source": [
    "lineareAbbildung(np.array([[1, 2], [0, 1]]), 3)"
   ]
  },
  {
   "cell_type": "markdown",
   "metadata": {},
   "source": [
    "**3. Abbildung:** Drehung um den Nullpunkt mit einem Winkel von 180 Grad ($\\pi$)."
   ]
  },
  {
   "cell_type": "code",
   "execution_count": 8,
   "metadata": {},
   "outputs": [
    {
     "data": {
      "image/png": "[encoded data removed]",
      "text/plain": [
       "<Figure size 432x288 with 1 Axes>"
      ]
     },
     "metadata": {
      "needs_background": "light"
     },
     "output_type": "display_data"
    }
   ],
   "source": [
    "cos_a, sin_a = np.cos(np.pi), np.sin(np.pi)\n",
    "lineareAbbildung(np.array([[cos_a, -sin_a], [sin_a, cos_a]]))"
   ]
  },
  {
   "cell_type": "markdown",
   "metadata": {},
   "source": [
    "**4. Abbildung:** Eine Spiegelung um 30 Grad ($\\frac{\\pi}{6}$) an der Geraden, die durch den Nullpunkt geht. "
   ]
  },
  {
   "cell_type": "code",
   "execution_count": 9,
   "metadata": {},
   "outputs": [
    {
     "data": {
      "image/png": "[encoded data removed]",
      "text/plain": [
       "<Figure size 432x288 with 1 Axes>"
      ]
     },
     "metadata": {
      "needs_background": "light"
     },
     "output_type": "display_data"
    }
   ],
   "source": [
    "cos_a, sin_a = np.cos(np.pi/3), np.sin(np.pi/3)\n",
    "lineareAbbildung(np.array([[cos_a, sin_a], [sin_a, -cos_a]]))"
   ]
  },
  {
   "cell_type": "markdown",
   "metadata": {},
   "source": [
    "**5. Abbildung:** Projektion auf die x-Achse. Alle Punkte werden auf die x-Achse projiziert, welche parallel zur x-Achse verläuft. Somit get eine Dimension verlohren: $f: \\begin{cases}\n",
    "  \\mathbb{R}^2 \\rightarrow \\mathbb{R} \\\\\n",
    "  x \\mapsto A*x\n",
    " \\end{cases}$. "
   ]
  },
  {
   "cell_type": "code",
   "execution_count": 10,
   "metadata": {},
   "outputs": [
    {
     "data": {
      "image/png": "[encoded data removed]",
      "text/plain": [
       "<Figure size 432x288 with 1 Axes>"
      ]
     },
     "metadata": {
      "needs_background": "light"
     },
     "output_type": "display_data"
    }
   ],
   "source": [
    "lineareAbbildung(np.array([[1, 0], [0,0]]))"
   ]
  },
  {
   "cell_type": "markdown",
   "metadata": {},
   "source": [
    "## Fazit\n",
    "Dank den Python-Bibliotheken Numpy und Matplotlib war die Umsetzung der Funktion nicht besonders aufwändig. Beide Python-Bibliotheken besitzen die benötigten Basisfunktionalitäten um mit Matrizen zu arbeiten.  \n",
    "Spannend an diesem Auftrag war die Erkenntnis welche Veränderungen die jeweiligen Abbildungsmatrizen auf den Einheitskreis hatten. Die grafische Darstellung half mir ein besseres Verständis über die jeweiligen linearen Abbildungen zu erlangen."
   ]
  },
  {
   "cell_type": "markdown",
   "metadata": {},
   "source": [
    "## Literaturverzeichnis\n",
    "[1] Matplotlib. (2020). Matplotlib. Abgerufen am 07.05.2020 von https://matplotlib.org/  \n",
    "[2] NumPy Developers. (2020). NumPy. Abgerufen am 07.05.2020 von https://numpy.org/  \n",
    "[3] G. Teschl, S. Teschl. (2014) Mathematik für Informatiker. Springer-Verlag Berlin Heidelberg.  "
   ]
  },
  {
   "cell_type": "markdown",
   "metadata": {},
   "source": [
    "## Weitere Einheitsformen"
   ]
  },
  {
   "cell_type": "code",
   "execution_count": 11,
   "metadata": {},
   "outputs": [],
   "source": [
    "def generiereViereckKoord():\n",
    "    \"\"\"\n",
    "    Generiert die Koordinaten eines Einheitsvierecks. Die Seitenlängen betragen jeweils 1.\n",
    "    \"\"\"\n",
    "    return np.asanyarray([[0, 1, 1, 0, 0], [0, 0, 1, 1, 0]])"
   ]
  },
  {
   "cell_type": "code",
   "execution_count": 12,
   "metadata": {},
   "outputs": [],
   "source": [
    "def generiereDreieckKoord():\n",
    "    \"\"\"\n",
    "    Generiert die Koordinaten eines Einheitsdreiecks.\n",
    "    \"\"\"\n",
    "    return np.asanyarray([[0, 1, 0.5, 0], [0, 0, 1, 0]])"
   ]
  }
 ],
 "metadata": {
  "kernelspec": {
   "display_name": "Python 3",
   "language": "python",
   "name": "python3"
  },
  "language_info": {
   "codemirror_mode": {
    "name": "ipython",
    "version": 3
   },
   "file_extension": ".py",
   "mimetype": "text/x-python",
   "name": "python",
   "nbconvert_exporter": "python",
   "pygments_lexer": "ipython3",
   "version": "3.8.0"
  }
 },
 "nbformat": 4,
 "nbformat_minor": 4
}
